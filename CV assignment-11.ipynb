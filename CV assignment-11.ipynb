{
 "cells": [
  {
   "cell_type": "raw",
   "id": "8c9943f0",
   "metadata": {},
   "source": [
    "1. What do REGION PROPOSALS entail?"
   ]
  },
  {
   "cell_type": "raw",
   "id": "04a24155",
   "metadata": {},
   "source": [
    "ans:Region Proposals are a type of computer vision algorithm that are used to identify and extract potential regions of interest in an image or video. These regions are then used to segment the image or video into different areas of interest. The regions are generated through a combination of low-level image features, such as edges and color, as well as high-level semantic information. Region Proposals can be used to detect objects, faces, and text in images and videos."
   ]
  },
  {
   "cell_type": "code",
   "execution_count": null,
   "id": "5f6b4d7f",
   "metadata": {},
   "outputs": [],
   "source": []
  },
  {
   "cell_type": "raw",
   "id": "476376b1",
   "metadata": {},
   "source": [
    "2. What do you mean by NON-MAXIMUM SUPPRESSION? (NMS)"
   ]
  },
  {
   "cell_type": "raw",
   "id": "66e0b903",
   "metadata": {},
   "source": [
    "ans:Non-maximum suppression (NMS) is a computer vision technique used to reduce the number of detected objects in an image by removing redundant or overlapping detections. It works by comparing the maximum detection score at each location in the image and discarding any detections with a score below a certain threshold. NMS can help reduce false positives and improve accuracy in object detection tasks."
   ]
  },
  {
   "cell_type": "code",
   "execution_count": null,
   "id": "b48496fe",
   "metadata": {},
   "outputs": [],
   "source": []
  },
  {
   "cell_type": "code",
   "execution_count": null,
   "id": "9cc75a15",
   "metadata": {},
   "outputs": [],
   "source": []
  },
  {
   "cell_type": "raw",
   "id": "133d8840",
   "metadata": {},
   "source": [
    "3. What exactly is mAP?"
   ]
  },
  {
   "cell_type": "raw",
   "id": "af5daefd",
   "metadata": {},
   "source": [
    "ans:mAP stands for mean Average Precision, and it is a metric used to measure the accuracy of object detection algorithms. It is computed by averaging the precision of a model at different recall values, which represents the proportion of objects detected in the image. mAP can also be used to compare different models and determine which one is the most accurate."
   ]
  },
  {
   "cell_type": "code",
   "execution_count": null,
   "id": "fbc6ea59",
   "metadata": {},
   "outputs": [],
   "source": []
  },
  {
   "cell_type": "raw",
   "id": "abc3310d",
   "metadata": {},
   "source": [
    "4. What is a frames per second (FPS)?"
   ]
  },
  {
   "cell_type": "raw",
   "id": "0c862251",
   "metadata": {},
   "source": [
    "ans:FPS is a measure of the number of individual frames (or images) that compose a single second of video. It is commonly used to measure the frame rate achieved by a video camera, display, or other device. Computer vision applications often require high frame rates to capture and analyze events as they occur, so FPS is an important metric for measuring the performance of these systems."
   ]
  },
  {
   "cell_type": "code",
   "execution_count": null,
   "id": "bfe9875d",
   "metadata": {},
   "outputs": [],
   "source": []
  },
  {
   "cell_type": "raw",
   "id": "c838f355",
   "metadata": {},
   "source": [
    "5. What is an IOU (INTERSECTION OVER UNION)?"
   ]
  },
  {
   "cell_type": "raw",
   "id": "63dde9ea",
   "metadata": {},
   "source": [
    "ans:IOU, or Intersection Over Union, is a metric used to evaluate the accuracy of an object detection algorithm. It is the ratio of the area of overlap between the predicted bounding box and the ground truth bounding box to the total area of the two bounding boxes. A higher IOU indicates a better match between the predicted and ground truth bounding boxes. This metric is commonly used in computer vision tasks such as object detection, image segmentation, and image classification."
   ]
  },
  {
   "cell_type": "code",
   "execution_count": null,
   "id": "7ebcf2b9",
   "metadata": {},
   "outputs": [],
   "source": []
  },
  {
   "cell_type": "raw",
   "id": "16b07e8c",
   "metadata": {},
   "source": [
    "6. Describe the PRECISION-RECALL CURVE (PR CURVE)"
   ]
  },
  {
   "cell_type": "raw",
   "id": "a6d3219a",
   "metadata": {},
   "source": [
    "ans:The precision-recall curve (PR curve) is a graphical plot used to evaluate the accuracy of a model in a binary classification task. It is a plot of the precision (positive predictive value) against the recall (sensitivity) of the model. The PR curve is used to measure the trade-off between a model’s precision and recall. The higher the precision and recall, the better the model is at accurately predicting the positive class. The PR curve can also be used to compare different models. The model with the higher area under the curve (AUC) is generally considered to be the more accurate model."
   ]
  },
  {
   "cell_type": "code",
   "execution_count": null,
   "id": "6de966d6",
   "metadata": {},
   "outputs": [],
   "source": []
  },
  {
   "cell_type": "raw",
   "id": "e9357c6b",
   "metadata": {},
   "source": [
    "7. What is the term &quot;selective search&quot;?"
   ]
  },
  {
   "cell_type": "raw",
   "id": "8dd0cc08",
   "metadata": {},
   "source": [
    "ans:Selective search is a method of object detection in computer vision that involves searching an image for objects by iteratively considering a large set of regions. The goal of selective search is to rapidly identify regions in an image that are likely to contain objects, and then to refine these regions to create a set of object proposals."
   ]
  },
  {
   "cell_type": "code",
   "execution_count": null,
   "id": "bed3f09d",
   "metadata": {},
   "outputs": [],
   "source": []
  },
  {
   "cell_type": "raw",
   "id": "38d410fb",
   "metadata": {},
   "source": [
    "8. Describe the R-CNN model&#39;s four components."
   ]
  },
  {
   "cell_type": "raw",
   "id": "d193eaf5",
   "metadata": {},
   "source": [
    "ans:.1 Selective Search: This is the process of proposing potential regions in an image that could contain an object of interest.\n",
    "\n",
    "2.Region Proposal Network (RPN): This is a convolutional neural network that takes in the proposed regions from Selective Search and outputs a set of refined proposals.\n",
    "\n",
    "3.Convolutional Neural Network (CNN): This is a deep learning architecture that takes in the refined proposals from the RPN and classifies them into different classes.\n",
    "\n",
    "4.Bounding Box Regression: This is a technique used to adjust the coordinates of the predicted bounding boxes so that they more accurately fit the objects they contain."
   ]
  },
  {
   "cell_type": "code",
   "execution_count": null,
   "id": "0a0d8891",
   "metadata": {},
   "outputs": [],
   "source": []
  },
  {
   "cell_type": "raw",
   "id": "7843953e",
   "metadata": {},
   "source": [
    "9. What exactly is the Localization Module?"
   ]
  },
  {
   "cell_type": "raw",
   "id": "8f19ea2f",
   "metadata": {},
   "source": [
    "ans:The Localization Module in computer vision is a tool used to locate objects in an image or video. It uses features such as color, shape, and texture to detect objects in an image. It also allows for recognition of objects in different locations in the image. The Localization Module is used in applications such as object tracking, facial recognition, and robotics."
   ]
  },
  {
   "cell_type": "code",
   "execution_count": null,
   "id": "a8c29019",
   "metadata": {},
   "outputs": [],
   "source": []
  },
  {
   "cell_type": "raw",
   "id": "9e286f3b",
   "metadata": {},
   "source": [
    "10. What are the R-CNN DISADVANTAGES?"
   ]
  },
  {
   "cell_type": "raw",
   "id": "24173de0",
   "metadata": {},
   "source": [
    "ans:The main disadvantages of R-CNN are:\n",
    "\n",
    "1.It is slow due to the multiple steps involved in the detection process.\n",
    "\n",
    "2.It is computationally expensive.\n",
    "\n",
    "3.There is a lack of scalability, as each region proposal needs to be re-evaluated with each new input image.\n",
    "\n",
    "4.It is relatively challenging to implement, as it requires deep learning expertise to properly tune the network.\n",
    "\n",
    "5.It does not produce satisfactory results in scenarios with large objects or objects with a small number of pixels."
   ]
  },
  {
   "cell_type": "code",
   "execution_count": null,
   "id": "3f98f30e",
   "metadata": {},
   "outputs": [],
   "source": []
  },
  {
   "cell_type": "code",
   "execution_count": null,
   "id": "81181737",
   "metadata": {},
   "outputs": [],
   "source": []
  }
 ],
 "metadata": {
  "kernelspec": {
   "display_name": "Python 3",
   "language": "python",
   "name": "python3"
  },
  "language_info": {
   "codemirror_mode": {
    "name": "ipython",
    "version": 3
   },
   "file_extension": ".py",
   "mimetype": "text/x-python",
   "name": "python",
   "nbconvert_exporter": "python",
   "pygments_lexer": "ipython3",
   "version": "3.8.8"
  }
 },
 "nbformat": 4,
 "nbformat_minor": 5
}
